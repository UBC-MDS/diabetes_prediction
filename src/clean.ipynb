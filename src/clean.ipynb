{
 "cells": [
  {
   "cell_type": "markdown",
   "metadata": {},
   "source": [
    "### Notebook for step-by-step data cleaning"
   ]
  },
  {
   "cell_type": "code",
   "execution_count": 33,
   "metadata": {},
   "outputs": [
    {
     "name": "stderr",
     "output_type": "stream",
     "text": [
      "/opt/miniconda3/envs/522_group2/lib/python3.10/site-packages/pandas/io/sas/sas_xport.py:475: PerformanceWarning: DataFrame is highly fragmented.  This is usually the result of calling `frame.insert` many times, which has poor performance.  Consider joining all columns at once using pd.concat(axis=1) instead.  To get a de-fragmented frame, use `newframe = frame.copy()`\n",
      "  df[x] = v\n"
     ]
    }
   ],
   "source": [
    "import pandas as pd\n",
    "\n",
    "df = pd.read_sas(\"data/raw/LLCP2015.XPT \", format='xport')"
   ]
  },
  {
   "cell_type": "code",
   "execution_count": 34,
   "metadata": {},
   "outputs": [
    {
     "data": {
      "text/html": [
       "<div>\n",
       "<style scoped>\n",
       "    .dataframe tbody tr th:only-of-type {\n",
       "        vertical-align: middle;\n",
       "    }\n",
       "\n",
       "    .dataframe tbody tr th {\n",
       "        vertical-align: top;\n",
       "    }\n",
       "\n",
       "    .dataframe thead th {\n",
       "        text-align: right;\n",
       "    }\n",
       "</style>\n",
       "<table border=\"1\" class=\"dataframe\">\n",
       "  <thead>\n",
       "    <tr style=\"text-align: right;\">\n",
       "      <th></th>\n",
       "      <th>_STATE</th>\n",
       "      <th>FMONTH</th>\n",
       "      <th>IDATE</th>\n",
       "      <th>IMONTH</th>\n",
       "      <th>IDAY</th>\n",
       "      <th>IYEAR</th>\n",
       "      <th>DISPCODE</th>\n",
       "      <th>SEQNO</th>\n",
       "      <th>_PSU</th>\n",
       "      <th>CTELENUM</th>\n",
       "      <th>...</th>\n",
       "      <th>_PAREC1</th>\n",
       "      <th>_PASTAE1</th>\n",
       "      <th>_LMTACT1</th>\n",
       "      <th>_LMTWRK1</th>\n",
       "      <th>_LMTSCL1</th>\n",
       "      <th>_RFSEAT2</th>\n",
       "      <th>_RFSEAT3</th>\n",
       "      <th>_FLSHOT6</th>\n",
       "      <th>_PNEUMO2</th>\n",
       "      <th>_AIDTST3</th>\n",
       "    </tr>\n",
       "  </thead>\n",
       "  <tbody>\n",
       "    <tr>\n",
       "      <th>0</th>\n",
       "      <td>1.0</td>\n",
       "      <td>1.0</td>\n",
       "      <td>b'01292015'</td>\n",
       "      <td>b'01'</td>\n",
       "      <td>b'29'</td>\n",
       "      <td>b'2015'</td>\n",
       "      <td>1200.0</td>\n",
       "      <td>2.015000e+09</td>\n",
       "      <td>2.015000e+09</td>\n",
       "      <td>1.0</td>\n",
       "      <td>...</td>\n",
       "      <td>4.0</td>\n",
       "      <td>2.0</td>\n",
       "      <td>1.0</td>\n",
       "      <td>1.0</td>\n",
       "      <td>1.0</td>\n",
       "      <td>1.0</td>\n",
       "      <td>1.0</td>\n",
       "      <td>NaN</td>\n",
       "      <td>NaN</td>\n",
       "      <td>1.0</td>\n",
       "    </tr>\n",
       "    <tr>\n",
       "      <th>1</th>\n",
       "      <td>1.0</td>\n",
       "      <td>1.0</td>\n",
       "      <td>b'01202015'</td>\n",
       "      <td>b'01'</td>\n",
       "      <td>b'20'</td>\n",
       "      <td>b'2015'</td>\n",
       "      <td>1100.0</td>\n",
       "      <td>2.015000e+09</td>\n",
       "      <td>2.015000e+09</td>\n",
       "      <td>1.0</td>\n",
       "      <td>...</td>\n",
       "      <td>2.0</td>\n",
       "      <td>2.0</td>\n",
       "      <td>3.0</td>\n",
       "      <td>3.0</td>\n",
       "      <td>4.0</td>\n",
       "      <td>2.0</td>\n",
       "      <td>2.0</td>\n",
       "      <td>NaN</td>\n",
       "      <td>NaN</td>\n",
       "      <td>2.0</td>\n",
       "    </tr>\n",
       "    <tr>\n",
       "      <th>2</th>\n",
       "      <td>1.0</td>\n",
       "      <td>1.0</td>\n",
       "      <td>b'02012015'</td>\n",
       "      <td>b'02'</td>\n",
       "      <td>b'01'</td>\n",
       "      <td>b'2015'</td>\n",
       "      <td>1200.0</td>\n",
       "      <td>2.015000e+09</td>\n",
       "      <td>2.015000e+09</td>\n",
       "      <td>1.0</td>\n",
       "      <td>...</td>\n",
       "      <td>9.0</td>\n",
       "      <td>9.0</td>\n",
       "      <td>9.0</td>\n",
       "      <td>9.0</td>\n",
       "      <td>9.0</td>\n",
       "      <td>9.0</td>\n",
       "      <td>9.0</td>\n",
       "      <td>9.0</td>\n",
       "      <td>9.0</td>\n",
       "      <td>NaN</td>\n",
       "    </tr>\n",
       "    <tr>\n",
       "      <th>3</th>\n",
       "      <td>1.0</td>\n",
       "      <td>1.0</td>\n",
       "      <td>b'01142015'</td>\n",
       "      <td>b'01'</td>\n",
       "      <td>b'14'</td>\n",
       "      <td>b'2015'</td>\n",
       "      <td>1100.0</td>\n",
       "      <td>2.015000e+09</td>\n",
       "      <td>2.015000e+09</td>\n",
       "      <td>1.0</td>\n",
       "      <td>...</td>\n",
       "      <td>4.0</td>\n",
       "      <td>2.0</td>\n",
       "      <td>1.0</td>\n",
       "      <td>1.0</td>\n",
       "      <td>1.0</td>\n",
       "      <td>1.0</td>\n",
       "      <td>1.0</td>\n",
       "      <td>NaN</td>\n",
       "      <td>NaN</td>\n",
       "      <td>9.0</td>\n",
       "    </tr>\n",
       "    <tr>\n",
       "      <th>4</th>\n",
       "      <td>1.0</td>\n",
       "      <td>1.0</td>\n",
       "      <td>b'01142015'</td>\n",
       "      <td>b'01'</td>\n",
       "      <td>b'14'</td>\n",
       "      <td>b'2015'</td>\n",
       "      <td>1100.0</td>\n",
       "      <td>2.015000e+09</td>\n",
       "      <td>2.015000e+09</td>\n",
       "      <td>1.0</td>\n",
       "      <td>...</td>\n",
       "      <td>4.0</td>\n",
       "      <td>2.0</td>\n",
       "      <td>1.0</td>\n",
       "      <td>1.0</td>\n",
       "      <td>1.0</td>\n",
       "      <td>1.0</td>\n",
       "      <td>1.0</td>\n",
       "      <td>NaN</td>\n",
       "      <td>NaN</td>\n",
       "      <td>1.0</td>\n",
       "    </tr>\n",
       "  </tbody>\n",
       "</table>\n",
       "<p>5 rows × 330 columns</p>\n",
       "</div>"
      ],
      "text/plain": [
       "   _STATE  FMONTH        IDATE IMONTH   IDAY    IYEAR  DISPCODE         SEQNO  \\\n",
       "0     1.0     1.0  b'01292015'  b'01'  b'29'  b'2015'    1200.0  2.015000e+09   \n",
       "1     1.0     1.0  b'01202015'  b'01'  b'20'  b'2015'    1100.0  2.015000e+09   \n",
       "2     1.0     1.0  b'02012015'  b'02'  b'01'  b'2015'    1200.0  2.015000e+09   \n",
       "3     1.0     1.0  b'01142015'  b'01'  b'14'  b'2015'    1100.0  2.015000e+09   \n",
       "4     1.0     1.0  b'01142015'  b'01'  b'14'  b'2015'    1100.0  2.015000e+09   \n",
       "\n",
       "           _PSU  CTELENUM  ...  _PAREC1  _PASTAE1  _LMTACT1  _LMTWRK1  \\\n",
       "0  2.015000e+09       1.0  ...      4.0       2.0       1.0       1.0   \n",
       "1  2.015000e+09       1.0  ...      2.0       2.0       3.0       3.0   \n",
       "2  2.015000e+09       1.0  ...      9.0       9.0       9.0       9.0   \n",
       "3  2.015000e+09       1.0  ...      4.0       2.0       1.0       1.0   \n",
       "4  2.015000e+09       1.0  ...      4.0       2.0       1.0       1.0   \n",
       "\n",
       "   _LMTSCL1  _RFSEAT2  _RFSEAT3  _FLSHOT6  _PNEUMO2  _AIDTST3  \n",
       "0       1.0       1.0       1.0       NaN       NaN       1.0  \n",
       "1       4.0       2.0       2.0       NaN       NaN       2.0  \n",
       "2       9.0       9.0       9.0       9.0       9.0       NaN  \n",
       "3       1.0       1.0       1.0       NaN       NaN       9.0  \n",
       "4       1.0       1.0       1.0       NaN       NaN       1.0  \n",
       "\n",
       "[5 rows x 330 columns]"
      ]
     },
     "execution_count": 34,
     "metadata": {},
     "output_type": "execute_result"
    }
   ],
   "source": [
    "df.head()\n"
   ]
  },
  {
   "cell_type": "code",
   "execution_count": 35,
   "metadata": {},
   "outputs": [
    {
     "data": {
      "text/html": [
       "<div>\n",
       "<style scoped>\n",
       "    .dataframe tbody tr th:only-of-type {\n",
       "        vertical-align: middle;\n",
       "    }\n",
       "\n",
       "    .dataframe tbody tr th {\n",
       "        vertical-align: top;\n",
       "    }\n",
       "\n",
       "    .dataframe thead th {\n",
       "        text-align: right;\n",
       "    }\n",
       "</style>\n",
       "<table border=\"1\" class=\"dataframe\">\n",
       "  <thead>\n",
       "    <tr style=\"text-align: right;\">\n",
       "      <th></th>\n",
       "      <th>DIABETE3</th>\n",
       "      <th>_RFHYPE5</th>\n",
       "      <th>TOLDHI2</th>\n",
       "      <th>_CHOLCHK</th>\n",
       "      <th>_BMI5</th>\n",
       "      <th>SMOKE100</th>\n",
       "      <th>CVDSTRK3</th>\n",
       "      <th>_MICHD</th>\n",
       "      <th>_TOTINDA</th>\n",
       "      <th>_FRTLT1</th>\n",
       "      <th>...</th>\n",
       "      <th>HLTHPLN1</th>\n",
       "      <th>MEDCOST</th>\n",
       "      <th>GENHLTH</th>\n",
       "      <th>MENTHLTH</th>\n",
       "      <th>PHYSHLTH</th>\n",
       "      <th>DIFFWALK</th>\n",
       "      <th>SEX</th>\n",
       "      <th>_AGEG5YR</th>\n",
       "      <th>EDUCA</th>\n",
       "      <th>INCOME2</th>\n",
       "    </tr>\n",
       "  </thead>\n",
       "  <tbody>\n",
       "    <tr>\n",
       "      <th>0</th>\n",
       "      <td>3.0</td>\n",
       "      <td>2.0</td>\n",
       "      <td>1.0</td>\n",
       "      <td>1.0</td>\n",
       "      <td>4018.0</td>\n",
       "      <td>1.0</td>\n",
       "      <td>2.0</td>\n",
       "      <td>2.0</td>\n",
       "      <td>2.0</td>\n",
       "      <td>2.0</td>\n",
       "      <td>...</td>\n",
       "      <td>1.0</td>\n",
       "      <td>2.0</td>\n",
       "      <td>5.0</td>\n",
       "      <td>18.0</td>\n",
       "      <td>15.0</td>\n",
       "      <td>1.0</td>\n",
       "      <td>2.0</td>\n",
       "      <td>9.0</td>\n",
       "      <td>4.0</td>\n",
       "      <td>3.0</td>\n",
       "    </tr>\n",
       "    <tr>\n",
       "      <th>1</th>\n",
       "      <td>3.0</td>\n",
       "      <td>1.0</td>\n",
       "      <td>2.0</td>\n",
       "      <td>2.0</td>\n",
       "      <td>2509.0</td>\n",
       "      <td>1.0</td>\n",
       "      <td>2.0</td>\n",
       "      <td>2.0</td>\n",
       "      <td>1.0</td>\n",
       "      <td>2.0</td>\n",
       "      <td>...</td>\n",
       "      <td>2.0</td>\n",
       "      <td>1.0</td>\n",
       "      <td>3.0</td>\n",
       "      <td>88.0</td>\n",
       "      <td>88.0</td>\n",
       "      <td>2.0</td>\n",
       "      <td>2.0</td>\n",
       "      <td>7.0</td>\n",
       "      <td>6.0</td>\n",
       "      <td>1.0</td>\n",
       "    </tr>\n",
       "    <tr>\n",
       "      <th>2</th>\n",
       "      <td>3.0</td>\n",
       "      <td>1.0</td>\n",
       "      <td>1.0</td>\n",
       "      <td>1.0</td>\n",
       "      <td>2204.0</td>\n",
       "      <td>NaN</td>\n",
       "      <td>1.0</td>\n",
       "      <td>NaN</td>\n",
       "      <td>9.0</td>\n",
       "      <td>9.0</td>\n",
       "      <td>...</td>\n",
       "      <td>1.0</td>\n",
       "      <td>2.0</td>\n",
       "      <td>4.0</td>\n",
       "      <td>88.0</td>\n",
       "      <td>15.0</td>\n",
       "      <td>NaN</td>\n",
       "      <td>2.0</td>\n",
       "      <td>11.0</td>\n",
       "      <td>4.0</td>\n",
       "      <td>99.0</td>\n",
       "    </tr>\n",
       "    <tr>\n",
       "      <th>3</th>\n",
       "      <td>3.0</td>\n",
       "      <td>2.0</td>\n",
       "      <td>1.0</td>\n",
       "      <td>1.0</td>\n",
       "      <td>2819.0</td>\n",
       "      <td>2.0</td>\n",
       "      <td>2.0</td>\n",
       "      <td>2.0</td>\n",
       "      <td>2.0</td>\n",
       "      <td>1.0</td>\n",
       "      <td>...</td>\n",
       "      <td>1.0</td>\n",
       "      <td>1.0</td>\n",
       "      <td>5.0</td>\n",
       "      <td>30.0</td>\n",
       "      <td>30.0</td>\n",
       "      <td>1.0</td>\n",
       "      <td>2.0</td>\n",
       "      <td>9.0</td>\n",
       "      <td>4.0</td>\n",
       "      <td>8.0</td>\n",
       "    </tr>\n",
       "    <tr>\n",
       "      <th>4</th>\n",
       "      <td>3.0</td>\n",
       "      <td>1.0</td>\n",
       "      <td>2.0</td>\n",
       "      <td>1.0</td>\n",
       "      <td>2437.0</td>\n",
       "      <td>2.0</td>\n",
       "      <td>2.0</td>\n",
       "      <td>2.0</td>\n",
       "      <td>2.0</td>\n",
       "      <td>9.0</td>\n",
       "      <td>...</td>\n",
       "      <td>1.0</td>\n",
       "      <td>2.0</td>\n",
       "      <td>5.0</td>\n",
       "      <td>88.0</td>\n",
       "      <td>20.0</td>\n",
       "      <td>2.0</td>\n",
       "      <td>2.0</td>\n",
       "      <td>9.0</td>\n",
       "      <td>5.0</td>\n",
       "      <td>77.0</td>\n",
       "    </tr>\n",
       "  </tbody>\n",
       "</table>\n",
       "<p>5 rows × 22 columns</p>\n",
       "</div>"
      ],
      "text/plain": [
       "   DIABETE3  _RFHYPE5  TOLDHI2  _CHOLCHK   _BMI5  SMOKE100  CVDSTRK3  _MICHD  \\\n",
       "0       3.0       2.0      1.0       1.0  4018.0       1.0       2.0     2.0   \n",
       "1       3.0       1.0      2.0       2.0  2509.0       1.0       2.0     2.0   \n",
       "2       3.0       1.0      1.0       1.0  2204.0       NaN       1.0     NaN   \n",
       "3       3.0       2.0      1.0       1.0  2819.0       2.0       2.0     2.0   \n",
       "4       3.0       1.0      2.0       1.0  2437.0       2.0       2.0     2.0   \n",
       "\n",
       "   _TOTINDA  _FRTLT1  ...  HLTHPLN1  MEDCOST  GENHLTH  MENTHLTH  PHYSHLTH  \\\n",
       "0       2.0      2.0  ...       1.0      2.0      5.0      18.0      15.0   \n",
       "1       1.0      2.0  ...       2.0      1.0      3.0      88.0      88.0   \n",
       "2       9.0      9.0  ...       1.0      2.0      4.0      88.0      15.0   \n",
       "3       2.0      1.0  ...       1.0      1.0      5.0      30.0      30.0   \n",
       "4       2.0      9.0  ...       1.0      2.0      5.0      88.0      20.0   \n",
       "\n",
       "   DIFFWALK  SEX  _AGEG5YR  EDUCA  INCOME2  \n",
       "0       1.0  2.0       9.0    4.0      3.0  \n",
       "1       2.0  2.0       7.0    6.0      1.0  \n",
       "2       NaN  2.0      11.0    4.0     99.0  \n",
       "3       1.0  2.0       9.0    4.0      8.0  \n",
       "4       2.0  2.0       9.0    5.0     77.0  \n",
       "\n",
       "[5 rows x 22 columns]"
      ]
     },
     "execution_count": 35,
     "metadata": {},
     "output_type": "execute_result"
    }
   ],
   "source": [
    "# select relevant columns\n",
    "# identified as relevant to diabetes prediction by Alex Teboul\n",
    "relevant_columns = [\n",
    "                    'DIABETE3',\n",
    "                    '_RFHYPE5',  \n",
    "                    'TOLDHI2',\n",
    "                    '_CHOLCHK', \n",
    "                    '_BMI5', \n",
    "                    'SMOKE100', \n",
    "                    'CVDSTRK3',\n",
    "                    '_MICHD', \n",
    "                    '_TOTINDA', \n",
    "                    '_FRTLT1',\n",
    "                    '_VEGLT1', \n",
    "                    '_RFDRHV5', \n",
    "                    'HLTHPLN1',\n",
    "                    'MEDCOST', \n",
    "                    'GENHLTH',\n",
    "                    'MENTHLTH',\n",
    "                    'PHYSHLTH',\n",
    "                    'DIFFWALK', \n",
    "                    'SEX',\n",
    "                    '_AGEG5YR',\n",
    "                    'EDUCA',\n",
    "                    'INCOME2' \n",
    "                    ]\n",
    "df = df[relevant_columns]\n",
    "df.head()"
   ]
  },
  {
   "cell_type": "code",
   "execution_count": 22,
   "metadata": {},
   "outputs": [],
   "source": [
    "## CLEANING\n",
    "# modifying reponses to make more sense \n",
    "# based on https://www.cdc.gov/brfss/annual_data/2015/pdf/codebook15_llcp.pdf"
   ]
  },
  {
   "cell_type": "code",
   "execution_count": 36,
   "metadata": {},
   "outputs": [
    {
     "data": {
      "text/plain": [
       "(343606, 22)"
      ]
     },
     "execution_count": 36,
     "metadata": {},
     "output_type": "execute_result"
    }
   ],
   "source": [
    "# Drop rows with NA values\n",
    "df = df.dropna()\n",
    "\n",
    "df.shape"
   ]
  },
  {
   "cell_type": "code",
   "execution_count": 37,
   "metadata": {},
   "outputs": [
    {
     "data": {
      "text/plain": [
       "array([0., 2., 1.])"
      ]
     },
     "execution_count": 37,
     "metadata": {},
     "output_type": "execute_result"
    }
   ],
   "source": [
    "# DIABETE3 (Diabetes)\n",
    "# (Ever told) you have diabetes (some ordinality)\n",
    "# we see some ordinality in the data, hence we will map the responses per the following:\n",
    "# 1 (yes) --> 2 (yes)\n",
    "# 2 (yes, during pregnancy) --> 0 (no)\n",
    "# 3 (no) --> 0 (no)\n",
    "# 4 (no, prediabetes) --> 1 (prediabetes)\n",
    "# 7 (dont know) --> remove\n",
    "# 9 (refused) --> remove\n",
    "df['DIABETE3'] = df['DIABETE3'].replace({2:0, 3:0, 1:2, 4:1})\n",
    "df = df[df.DIABETE3 != 7]\n",
    "df = df[df.DIABETE3 != 9]\n",
    "\n",
    "df.DIABETE3.unique()"
   ]
  },
  {
   "cell_type": "code",
   "execution_count": 38,
   "metadata": {},
   "outputs": [
    {
     "data": {
      "text/plain": [
       "array([1., 0.])"
      ]
     },
     "execution_count": 38,
     "metadata": {},
     "output_type": "execute_result"
    }
   ],
   "source": [
    "# _RFHYPE5 (HighBP)\n",
    "# Adults who have been told they have high blood pressure by a doctor, nurse, or other health professiona\n",
    "# 1 (no) --> 0 (no)\n",
    "# 2 (yes) --> 1 (yes)\n",
    "# 9 (dont know) --> remove\n",
    "df['_RFHYPE5'] = df['_RFHYPE5'].replace({1:0, 2:1})\n",
    "df = df[df._RFHYPE5 != 9]\n",
    "\n",
    "df._RFHYPE5.unique()"
   ]
  },
  {
   "cell_type": "code",
   "execution_count": 39,
   "metadata": {},
   "outputs": [
    {
     "data": {
      "text/plain": [
       "array([1., 0.])"
      ]
     },
     "execution_count": 39,
     "metadata": {},
     "output_type": "execute_result"
    }
   ],
   "source": [
    "# TOLDHI2 (HighChol)\n",
    "# Have you EVER been told by a doctor, nurse or other health professional that your blood cholesterol is high?\n",
    "# 1 (yes) --> 1 (yes)\n",
    "# 2 (no) --> 0 (no)\n",
    "# 7 (dont know) --> remove\n",
    "# 9 (refused) --> remove\n",
    "df['TOLDHI2'] = df['TOLDHI2'].replace({2:0})\n",
    "df = df[df.TOLDHI2 != 7]\n",
    "df = df[df.TOLDHI2 != 9]\n",
    "\n",
    "df.TOLDHI2.unique()"
   ]
  },
  {
   "cell_type": "code",
   "execution_count": 40,
   "metadata": {},
   "outputs": [
    {
     "data": {
      "text/plain": [
       "array([1., 0.])"
      ]
     },
     "execution_count": 40,
     "metadata": {},
     "output_type": "execute_result"
    }
   ],
   "source": [
    "# _CHOLCHK (CholCheck)\n",
    "# Cholesterol check within past five years\n",
    "# 1 (Had cholesterol checked in past 5 years) --> 1\n",
    "# 2 (Did not have cholesterol checked in past 5 years) --> 0 \n",
    "# 3 (have never had cholesterol checked) --> 0\n",
    "# 9 (don't know/not sure/refused/missing) --> remove\n",
    "df['_CHOLCHK'] = df['_CHOLCHK'].replace({3:0,2:0})\n",
    "df = df[df._CHOLCHK != 9]\n",
    "\n",
    "df._CHOLCHK.unique()"
   ]
  },
  {
   "cell_type": "code",
   "execution_count": null,
   "metadata": {},
   "outputs": [],
   "source": [
    "# _BMI5 (BMI)\n",
    "# Body Mass Index (BMI)\n",
    "# no changes, just note that these are BMI * 100.\n",
    "# So for example a BMI of 4018 is really 40.18)\n",
    "df['_BMI5'] = df['_BMI5'].div(100).round(0)\n",
    "\n",
    "df._BMI5.unique()"
   ]
  },
  {
   "cell_type": "code",
   "execution_count": 41,
   "metadata": {},
   "outputs": [
    {
     "data": {
      "text/plain": [
       "array([1., 0.])"
      ]
     },
     "execution_count": 41,
     "metadata": {},
     "output_type": "execute_result"
    }
   ],
   "source": [
    "# SMOKE100 (Smoker)\n",
    "# Have you smoked at least 100 cigarettes in your entire life?\n",
    "# 1 (yes) --> 1\n",
    "# 2 (no) --> 0\n",
    "# 7 (dont knows) --> remove\n",
    "# 9 (refused) --> remove\n",
    "df['SMOKE100'] = df['SMOKE100'].replace({2:0})\n",
    "df = df[df.SMOKE100 != 7]\n",
    "df = df[df.SMOKE100 != 9]\n",
    "\n",
    "df.SMOKE100.unique()"
   ]
  },
  {
   "cell_type": "code",
   "execution_count": 42,
   "metadata": {},
   "outputs": [
    {
     "data": {
      "text/plain": [
       "array([0., 1.])"
      ]
     },
     "execution_count": 42,
     "metadata": {},
     "output_type": "execute_result"
    }
   ],
   "source": [
    "# CVDSTRK3 (Stroke)\n",
    "# (Ever told) you had a stroke.\n",
    "# 1 (yes) -> 1\n",
    "# 2 (no) -> 0\n",
    "# 7 (dont knows) -> remove\n",
    "# 9 (refused) -> remove\n",
    "df['CVDSTRK3'] = df['CVDSTRK3'].replace({2:0})\n",
    "df = df[df.CVDSTRK3 != 7]\n",
    "df = df[df.CVDSTRK3 != 9]\n",
    "\n",
    "df.CVDSTRK3.unique()"
   ]
  },
  {
   "cell_type": "code",
   "execution_count": 43,
   "metadata": {},
   "outputs": [
    {
     "data": {
      "text/plain": [
       "array([0., 1.])"
      ]
     },
     "execution_count": 43,
     "metadata": {},
     "output_type": "execute_result"
    }
   ],
   "source": [
    "# _MICHD (HeartDiseaseorAttack)\n",
    "# Respondents that have ever reported having coronary heart disease (CHD) or myocardial infarction (MI)\n",
    "# 1 (reported having) -> 1\n",
    "# 2 (did not report having) -> 0\n",
    "df['_MICHD'] = df['_MICHD'].replace({2: 0})\n",
    "\n",
    "df._MICHD.unique()"
   ]
  },
  {
   "cell_type": "code",
   "execution_count": 44,
   "metadata": {},
   "outputs": [
    {
     "data": {
      "text/plain": [
       "array([0., 1.])"
      ]
     },
     "execution_count": 44,
     "metadata": {},
     "output_type": "execute_result"
    }
   ],
   "source": [
    "# _TOTINDA (PhysActivity)\n",
    "# Adults who reported doing physical activity or exercise during the past 30 days other than their regular job\n",
    "# 1 (had physical activity) -> 1\n",
    "# 2 (No physical activity or exercise in last 30 days) -> 0 \n",
    "# 9 (don't know/refused) -> remove\n",
    "df['_TOTINDA'] = df['_TOTINDA'].replace({2:0})\n",
    "df = df[df._TOTINDA != 9]\n",
    "\n",
    "df._TOTINDA.unique()"
   ]
  },
  {
   "cell_type": "code",
   "execution_count": 45,
   "metadata": {},
   "outputs": [
    {
     "data": {
      "text/plain": [
       "array([0., 1.])"
      ]
     },
     "execution_count": 45,
     "metadata": {},
     "output_type": "execute_result"
    }
   ],
   "source": [
    "# _FRTLT1 (Fruits)\n",
    "# Consume Fruit 1 or more times per day\n",
    "# 1 (Consumed fruit one or more times per day) -> 1 \n",
    "# 2 (Consumed fruit less than one time per day) -> 0 \n",
    "# 9 (Don ́t know, refused or missing values) -> remove\n",
    "df['_FRTLT1'] = df['_FRTLT1'].replace({2:0})\n",
    "df = df[df._FRTLT1 != 9]\n",
    "\n",
    "df._FRTLT1.unique()"
   ]
  },
  {
   "cell_type": "code",
   "execution_count": 46,
   "metadata": {},
   "outputs": [
    {
     "data": {
      "text/plain": [
       "array([1., 0.])"
      ]
     },
     "execution_count": 46,
     "metadata": {},
     "output_type": "execute_result"
    }
   ],
   "source": [
    "# _VEGLT1 (Veggies)\n",
    "# Consume Vegetables 1 or more times per day\n",
    "# 1 (Consumed vegetables one or more times per day) -> 1 \n",
    "# 2 (Consumed vegetables less than one time per day) -> 0 \n",
    "# 9 (Don ́t know, refused or missing values) -> remove\n",
    "df['_VEGLT1'] = df['_VEGLT1'].replace({2:0})\n",
    "df = df[df._VEGLT1 != 9]\n",
    "\n",
    "df._VEGLT1.unique()"
   ]
  },
  {
   "cell_type": "code",
   "execution_count": 47,
   "metadata": {},
   "outputs": [
    {
     "data": {
      "text/plain": [
       "array([0., 1.])"
      ]
     },
     "execution_count": 47,
     "metadata": {},
     "output_type": "execute_result"
    }
   ],
   "source": [
    "# _RFDRHV5 (HvyAlcoholConsump)\n",
    "# Heavy drinkers (adult men having more than 14 drinks per week and adult women having more than 7 drinks per week)\n",
    "# 1 (no) -> 0\n",
    "# 2 (yes) -> 1\n",
    "# 9 (Don’t know/Refused/Missing) -> remove\n",
    "df['_RFDRHV5'] = df['_RFDRHV5'].replace({1:0, 2:1})\n",
    "df = df[df._RFDRHV5 != 9]\n",
    "\n",
    "df._RFDRHV5.unique()"
   ]
  },
  {
   "cell_type": "code",
   "execution_count": 48,
   "metadata": {},
   "outputs": [
    {
     "data": {
      "text/plain": [
       "array([1., 0.])"
      ]
     },
     "execution_count": 48,
     "metadata": {},
     "output_type": "execute_result"
    }
   ],
   "source": [
    "# HLTHPLN1 (AnyHealthcare)\n",
    "# Do you have any kind of health care coverage, including health insurance, prepaid plans such as HMOs, or government plans such as Medicare, or Indian Health Service?\n",
    "# 1 (yes) -> 1\n",
    "# 2 (no) -> 0\n",
    "# 7 (Don’t know/Not Sure) -> remove\n",
    "# 9 (Refused) -> remove\n",
    "df['HLTHPLN1'] = df['HLTHPLN1'].replace({2:0})\n",
    "df = df[df.HLTHPLN1 != 7]\n",
    "df = df[df.HLTHPLN1 != 9]\n",
    "\n",
    "df.HLTHPLN1.unique()"
   ]
  },
  {
   "cell_type": "code",
   "execution_count": 49,
   "metadata": {},
   "outputs": [
    {
     "data": {
      "text/plain": [
       "array([0., 1.])"
      ]
     },
     "execution_count": 49,
     "metadata": {},
     "output_type": "execute_result"
    }
   ],
   "source": [
    "# MEDCOST (NoDocbcCost)\n",
    "# Was there a time in the past 12 months when you needed to see a doctor but could not because of cost?\n",
    "# 1 (yes) -> yes\n",
    "# 2 (no) -> no\n",
    "# 7 (Don’t know/Not sure) -> remove\n",
    "# 9 (refused) -> remvoe\n",
    "df['MEDCOST'] = df['MEDCOST'].replace({2:0})\n",
    "df = df[df.MEDCOST != 7]\n",
    "df = df[df.MEDCOST != 9]\n",
    "\n",
    "df.MEDCOST.unique()"
   ]
  },
  {
   "cell_type": "code",
   "execution_count": 50,
   "metadata": {},
   "outputs": [
    {
     "data": {
      "text/plain": [
       "array([5., 3., 2., 4., 1.])"
      ]
     },
     "execution_count": 50,
     "metadata": {},
     "output_type": "execute_result"
    }
   ],
   "source": [
    "# GENHLTH (GenHlth)\n",
    "# Would you say that in general your health is: (ordinal variable)\n",
    "# 1 Excellent\n",
    "# 2 Very good\n",
    "# 3 Good\n",
    "# 4 Fair\n",
    "# 5 Poor\n",
    "# 7 Don’t know/Not Sure -> remove\n",
    "# 9 Refused -> remove\n",
    "df = df[df.GENHLTH != 7]\n",
    "df = df[df.GENHLTH != 9]\n",
    "\n",
    "df.GENHLTH.unique()"
   ]
  },
  {
   "cell_type": "code",
   "execution_count": 55,
   "metadata": {},
   "outputs": [
    {
     "data": {
      "text/plain": [
       "array([18.,  0., 30.,  3.,  5., 15., 10.,  6., 20.,  2., 25.,  1., 29.,\n",
       "        4.,  7.,  8., 21., 14., 26.,  9., 16., 28., 11., 12., 24., 17.,\n",
       "       13., 23., 27., 19., 22.])"
      ]
     },
     "execution_count": 55,
     "metadata": {},
     "output_type": "execute_result"
    }
   ],
   "source": [
    "# MENTHLTH (MentHlth)\n",
    "# Now thinking about your mental health, which includes stress, depression, and problems with emotions, for how many days during the past 30 days was your mental health not good?\n",
    "# 1-30 (number of days)\n",
    "# 88 (None) -> 0 ; because it means none (no bad mental health days)\n",
    "# 77 (Don’t know/Not sure) -> remove\n",
    "# 99 (refused) -> remove\n",
    "df['MENTHLTH'] = df['MENTHLTH'].replace({88:0})\n",
    "df = df[df.MENTHLTH != 77]\n",
    "df = df[df.MENTHLTH != 99]\n",
    "\n",
    "df.MENTHLTH.unique()"
   ]
  },
  {
   "cell_type": "code",
   "execution_count": 56,
   "metadata": {},
   "outputs": [
    {
     "data": {
      "text/plain": [
       "array([15.,  0., 30.,  2., 14., 28.,  7., 20.,  3., 10.,  1.,  5., 17.,\n",
       "        4., 19.,  6., 21., 12.,  8., 25., 27., 22., 29., 24.,  9., 16.,\n",
       "       18., 23., 13., 26., 11.])"
      ]
     },
     "execution_count": 56,
     "metadata": {},
     "output_type": "execute_result"
    }
   ],
   "source": [
    "# PHYSHLTH (PhysHlth)\n",
    "# Now thinking about your physical health, which includes physical illness and injury, for how many days during the past 30 days was your physical health not good?\n",
    "# 1-30 (number of days)\n",
    "# 88 (None) -> 0 ; because it means none (no bad physical health days)\n",
    "# 77 (Don’t know/Not sure) -> remove\n",
    "# 99 (refused) -> remove\n",
    "df['PHYSHLTH'] = df['PHYSHLTH'].replace({88:0})\n",
    "df = df[df.PHYSHLTH != 77]\n",
    "df = df[df.PHYSHLTH != 99]\n",
    "\n",
    "df.PHYSHLTH.unique()"
   ]
  },
  {
   "cell_type": "code",
   "execution_count": 58,
   "metadata": {},
   "outputs": [
    {
     "data": {
      "text/plain": [
       "array([1., 0.])"
      ]
     },
     "execution_count": 58,
     "metadata": {},
     "output_type": "execute_result"
    }
   ],
   "source": [
    "# DIFFWALK (DiffWalk)\n",
    "# Do you have serious difficulty walking or climbing stairs?\n",
    "# 1 (yes) -> yes\n",
    "# 2 (no) -> no\n",
    "# 7 (Don’t know/Not sure) -> remove\n",
    "# 9 (refused) -> remvoe\n",
    "df['DIFFWALK'] = df['DIFFWALK'].replace({2:0})\n",
    "df = df[df.DIFFWALK != 7]\n",
    "df = df[df.DIFFWALK != 9]\n",
    "\n",
    "df.DIFFWALK.unique()"
   ]
  },
  {
   "cell_type": "code",
   "execution_count": 59,
   "metadata": {},
   "outputs": [
    {
     "data": {
      "text/plain": [
       "array([0., 1.])"
      ]
     },
     "execution_count": 59,
     "metadata": {},
     "output_type": "execute_result"
    }
   ],
   "source": [
    "# SEX (Sex)\n",
    "# Indicate sex of respondent.\n",
    "# in other words - is respondent male (somewhat arbitrarily chose this change because men are at higher risk for heart disease)\n",
    "# 1 (Male) -> 1\n",
    "# 2 (Female) -> 0\n",
    "df['SEX'] = df['SEX'].replace({2:0})\n",
    "\n",
    "df.SEX.unique()"
   ]
  },
  {
   "cell_type": "code",
   "execution_count": 60,
   "metadata": {},
   "outputs": [
    {
     "data": {
      "text/plain": [
       "array([ 9.,  7., 11., 10., 13.,  8.,  4.,  6.,  2., 12.,  5.,  1.,  3.])"
      ]
     },
     "execution_count": 60,
     "metadata": {},
     "output_type": "execute_result"
    }
   ],
   "source": [
    "# _AGEG5YR (Age)\n",
    "# Fourteen-level age category (ordinal)\n",
    "# 1 (18-24yrs) : 5 year increments : 13 (80 and older).\n",
    "# 14 (Don't know/Refused/Mising) -> remove\n",
    "df = df[df._AGEG5YR != 14]\n",
    "\n",
    "df._AGEG5YR.unique()"
   ]
  },
  {
   "cell_type": "code",
   "execution_count": 61,
   "metadata": {},
   "outputs": [
    {
     "data": {
      "text/plain": [
       "array([4., 6., 3., 5., 2., 1.])"
      ]
     },
     "execution_count": 61,
     "metadata": {},
     "output_type": "execute_result"
    }
   ],
   "source": [
    "# EDUCA (Education)\n",
    "# What is the highest grade or year of school you completed? (ordinal)\n",
    "# 1 Never attended school or only kindergarten\n",
    "# 2 Grades 1 through 8 (Elementary)\n",
    "# 3 Grades 9 through 11 (Some high school)\n",
    "# 4 Grade 12 or GED (High school graduate)\n",
    "# 5 College 1 year to 3 years (Some college or technical school)\n",
    "# 6 College 4 years or more (College graduate)\n",
    "# 9 Refused -> remove\n",
    "df = df[df.EDUCA != 9]\n",
    "\n",
    "df.EDUCA.unique()"
   ]
  },
  {
   "cell_type": "code",
   "execution_count": 62,
   "metadata": {},
   "outputs": [
    {
     "data": {
      "text/plain": [
       "array([3., 1., 8., 6., 4., 7., 2., 5.])"
      ]
     },
     "execution_count": 62,
     "metadata": {},
     "output_type": "execute_result"
    }
   ],
   "source": [
    "# INCOME2 (Income)\n",
    "# Is your annual household income from all sources: (ordinal)\n",
    "# 1 Less than $10,000 \n",
    "# 2 Less than $15,000 ($10,000 to less than $15,000) \n",
    "# 3 Less than $20,000 ($15,000 to less than $20,000) \n",
    "# 4 Less than $25,000 ($20,000 to less than $25,000)\n",
    "# 5 Less than $35,000 ($25,000 to less than $35,000)\n",
    "# 6 Less than $50,000 ($35,000 to less than $50,000)\n",
    "# 7 Less than $75,000 ($50,000 to less than $75,000)\n",
    "# 8 $75,000 or more\n",
    "# 77 Don’t know/Not sure -> remove\n",
    "# 99 Refused -> remove\n",
    "df = df[df.INCOME2 != 77]\n",
    "df = df[df.INCOME2 != 99]\n",
    "\n",
    "df.INCOME2.unique()"
   ]
  },
  {
   "cell_type": "code",
   "execution_count": 64,
   "metadata": {},
   "outputs": [
    {
     "data": {
      "text/plain": [
       "(253680, 22)"
      ]
     },
     "execution_count": 64,
     "metadata": {},
     "output_type": "execute_result"
    }
   ],
   "source": [
    "df.shape"
   ]
  },
  {
   "cell_type": "code",
   "execution_count": 65,
   "metadata": {},
   "outputs": [
    {
     "data": {
      "text/plain": [
       "DIABETE3\n",
       "0.0    213703\n",
       "1.0      4631\n",
       "2.0     35346\n",
       "dtype: int64"
      ]
     },
     "execution_count": 65,
     "metadata": {},
     "output_type": "execute_result"
    }
   ],
   "source": [
    "df.groupby(['DIABETE3']).size()"
   ]
  },
  {
   "cell_type": "code",
   "execution_count": 66,
   "metadata": {},
   "outputs": [
    {
     "data": {
      "text/html": [
       "<div>\n",
       "<style scoped>\n",
       "    .dataframe tbody tr th:only-of-type {\n",
       "        vertical-align: middle;\n",
       "    }\n",
       "\n",
       "    .dataframe tbody tr th {\n",
       "        vertical-align: top;\n",
       "    }\n",
       "\n",
       "    .dataframe thead th {\n",
       "        text-align: right;\n",
       "    }\n",
       "</style>\n",
       "<table border=\"1\" class=\"dataframe\">\n",
       "  <thead>\n",
       "    <tr style=\"text-align: right;\">\n",
       "      <th></th>\n",
       "      <th>Diabetes</th>\n",
       "      <th>HighBP</th>\n",
       "      <th>HighChol</th>\n",
       "      <th>CholCheck</th>\n",
       "      <th>BMI</th>\n",
       "      <th>Smoker</th>\n",
       "      <th>Stroke</th>\n",
       "      <th>HeartDiseaseorAttack</th>\n",
       "      <th>PhysActivity</th>\n",
       "      <th>Fruits</th>\n",
       "      <th>...</th>\n",
       "      <th>AnyHealthcare</th>\n",
       "      <th>NoDocbcCost</th>\n",
       "      <th>GenHlth</th>\n",
       "      <th>MentHlth</th>\n",
       "      <th>PhysHlth</th>\n",
       "      <th>DiffWalk</th>\n",
       "      <th>Sex</th>\n",
       "      <th>Age</th>\n",
       "      <th>Education</th>\n",
       "      <th>Income</th>\n",
       "    </tr>\n",
       "  </thead>\n",
       "  <tbody>\n",
       "    <tr>\n",
       "      <th>0</th>\n",
       "      <td>0.0</td>\n",
       "      <td>1.0</td>\n",
       "      <td>1.0</td>\n",
       "      <td>1.0</td>\n",
       "      <td>4018.0</td>\n",
       "      <td>1.0</td>\n",
       "      <td>0.0</td>\n",
       "      <td>0.0</td>\n",
       "      <td>0.0</td>\n",
       "      <td>0.0</td>\n",
       "      <td>...</td>\n",
       "      <td>1.0</td>\n",
       "      <td>0.0</td>\n",
       "      <td>5.0</td>\n",
       "      <td>18.0</td>\n",
       "      <td>15.0</td>\n",
       "      <td>1.0</td>\n",
       "      <td>0.0</td>\n",
       "      <td>9.0</td>\n",
       "      <td>4.0</td>\n",
       "      <td>3.0</td>\n",
       "    </tr>\n",
       "    <tr>\n",
       "      <th>1</th>\n",
       "      <td>0.0</td>\n",
       "      <td>0.0</td>\n",
       "      <td>0.0</td>\n",
       "      <td>0.0</td>\n",
       "      <td>2509.0</td>\n",
       "      <td>1.0</td>\n",
       "      <td>0.0</td>\n",
       "      <td>0.0</td>\n",
       "      <td>1.0</td>\n",
       "      <td>0.0</td>\n",
       "      <td>...</td>\n",
       "      <td>0.0</td>\n",
       "      <td>1.0</td>\n",
       "      <td>3.0</td>\n",
       "      <td>0.0</td>\n",
       "      <td>0.0</td>\n",
       "      <td>0.0</td>\n",
       "      <td>0.0</td>\n",
       "      <td>7.0</td>\n",
       "      <td>6.0</td>\n",
       "      <td>1.0</td>\n",
       "    </tr>\n",
       "    <tr>\n",
       "      <th>3</th>\n",
       "      <td>0.0</td>\n",
       "      <td>1.0</td>\n",
       "      <td>1.0</td>\n",
       "      <td>1.0</td>\n",
       "      <td>2819.0</td>\n",
       "      <td>0.0</td>\n",
       "      <td>0.0</td>\n",
       "      <td>0.0</td>\n",
       "      <td>0.0</td>\n",
       "      <td>1.0</td>\n",
       "      <td>...</td>\n",
       "      <td>1.0</td>\n",
       "      <td>1.0</td>\n",
       "      <td>5.0</td>\n",
       "      <td>30.0</td>\n",
       "      <td>30.0</td>\n",
       "      <td>1.0</td>\n",
       "      <td>0.0</td>\n",
       "      <td>9.0</td>\n",
       "      <td>4.0</td>\n",
       "      <td>8.0</td>\n",
       "    </tr>\n",
       "    <tr>\n",
       "      <th>5</th>\n",
       "      <td>0.0</td>\n",
       "      <td>1.0</td>\n",
       "      <td>0.0</td>\n",
       "      <td>1.0</td>\n",
       "      <td>2652.0</td>\n",
       "      <td>0.0</td>\n",
       "      <td>0.0</td>\n",
       "      <td>0.0</td>\n",
       "      <td>1.0</td>\n",
       "      <td>1.0</td>\n",
       "      <td>...</td>\n",
       "      <td>1.0</td>\n",
       "      <td>0.0</td>\n",
       "      <td>2.0</td>\n",
       "      <td>0.0</td>\n",
       "      <td>0.0</td>\n",
       "      <td>0.0</td>\n",
       "      <td>0.0</td>\n",
       "      <td>11.0</td>\n",
       "      <td>3.0</td>\n",
       "      <td>6.0</td>\n",
       "    </tr>\n",
       "    <tr>\n",
       "      <th>6</th>\n",
       "      <td>0.0</td>\n",
       "      <td>1.0</td>\n",
       "      <td>1.0</td>\n",
       "      <td>1.0</td>\n",
       "      <td>2389.0</td>\n",
       "      <td>0.0</td>\n",
       "      <td>0.0</td>\n",
       "      <td>0.0</td>\n",
       "      <td>1.0</td>\n",
       "      <td>1.0</td>\n",
       "      <td>...</td>\n",
       "      <td>1.0</td>\n",
       "      <td>0.0</td>\n",
       "      <td>2.0</td>\n",
       "      <td>3.0</td>\n",
       "      <td>0.0</td>\n",
       "      <td>0.0</td>\n",
       "      <td>0.0</td>\n",
       "      <td>11.0</td>\n",
       "      <td>5.0</td>\n",
       "      <td>4.0</td>\n",
       "    </tr>\n",
       "  </tbody>\n",
       "</table>\n",
       "<p>5 rows × 22 columns</p>\n",
       "</div>"
      ],
      "text/plain": [
       "   Diabetes  HighBP  HighChol  CholCheck     BMI  Smoker  Stroke  \\\n",
       "0       0.0     1.0       1.0        1.0  4018.0     1.0     0.0   \n",
       "1       0.0     0.0       0.0        0.0  2509.0     1.0     0.0   \n",
       "3       0.0     1.0       1.0        1.0  2819.0     0.0     0.0   \n",
       "5       0.0     1.0       0.0        1.0  2652.0     0.0     0.0   \n",
       "6       0.0     1.0       1.0        1.0  2389.0     0.0     0.0   \n",
       "\n",
       "   HeartDiseaseorAttack  PhysActivity  Fruits  ...  AnyHealthcare  \\\n",
       "0                   0.0           0.0     0.0  ...            1.0   \n",
       "1                   0.0           1.0     0.0  ...            0.0   \n",
       "3                   0.0           0.0     1.0  ...            1.0   \n",
       "5                   0.0           1.0     1.0  ...            1.0   \n",
       "6                   0.0           1.0     1.0  ...            1.0   \n",
       "\n",
       "   NoDocbcCost  GenHlth  MentHlth  PhysHlth  DiffWalk  Sex   Age  Education  \\\n",
       "0          0.0      5.0      18.0      15.0       1.0  0.0   9.0        4.0   \n",
       "1          1.0      3.0       0.0       0.0       0.0  0.0   7.0        6.0   \n",
       "3          1.0      5.0      30.0      30.0       1.0  0.0   9.0        4.0   \n",
       "5          0.0      2.0       0.0       0.0       0.0  0.0  11.0        3.0   \n",
       "6          0.0      2.0       3.0       0.0       0.0  0.0  11.0        5.0   \n",
       "\n",
       "   Income  \n",
       "0     3.0  \n",
       "1     1.0  \n",
       "3     8.0  \n",
       "5     6.0  \n",
       "6     4.0  \n",
       "\n",
       "[5 rows x 22 columns]"
      ]
     },
     "execution_count": 66,
     "metadata": {},
     "output_type": "execute_result"
    }
   ],
   "source": [
    "# rename columns for readability\n",
    "\n",
    "df = df.rename(columns = {  \n",
    "                            'DIABETE3':'Diabetes_012', \n",
    "                            '_RFHYPE5':'HighBP',  \n",
    "                            'TOLDHI2':'HighChol',\n",
    "                            '_CHOLCHK':'CholCheck', \n",
    "                            '_BMI5':'BMI', \n",
    "                            'SMOKE100':'Smoker', \n",
    "                            'CVDSTRK3':'Stroke',\n",
    "                            '_MICHD':'HeartDiseaseorAttack', \n",
    "                            '_TOTINDA':'PhysActivity', \n",
    "                            '_FRTLT1':'Fruits',\n",
    "                            '_VEGLT1':\"Veggies\", \n",
    "                            '_RFDRHV5':'HvyAlcoholConsump', \n",
    "                            'HLTHPLN1':'AnyHealthcare',\n",
    "                            'MEDCOST':'NoDocbcCost', \n",
    "                            'GENHLTH':'GenHlth',\n",
    "                            'MENTHLTH':'MentHlth',\n",
    "                            'PHYSHLTH':'PhysHlth',\n",
    "                            'DIFFWALK':'DiffWalk', \n",
    "                            'SEX':'Sex',\n",
    "                            '_AGEG5YR':'Age',\n",
    "                            'EDUCA':'Education',\n",
    "                            'INCOME2':'Income' \n",
    "                            }\n",
    "                )\n",
    "\n",
    "df.head()"
   ]
  },
  {
   "cell_type": "code",
   "execution_count": null,
   "metadata": {},
   "outputs": [],
   "source": []
  }
 ],
 "metadata": {
  "kernelspec": {
   "display_name": "Python 3.10.6 ('522_group2')",
   "language": "python",
   "name": "python3"
  },
  "language_info": {
   "codemirror_mode": {
    "name": "ipython",
    "version": 3
   },
   "file_extension": ".py",
   "mimetype": "text/x-python",
   "name": "python",
   "nbconvert_exporter": "python",
   "pygments_lexer": "ipython3",
   "version": "3.10.6"
  },
  "orig_nbformat": 4,
  "vscode": {
   "interpreter": {
    "hash": "8382d7eb7bd147caf03c2019111b132365421edda613a721d0935dd00db037d3"
   }
  }
 },
 "nbformat": 4,
 "nbformat_minor": 2
}
